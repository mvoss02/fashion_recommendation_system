{
 "cells": [
  {
   "cell_type": "markdown",
   "metadata": {},
   "source": [
    "# Tensorflow Recommendation System"
   ]
  },
  {
   "cell_type": "code",
   "execution_count": 5,
   "metadata": {},
   "outputs": [],
   "source": [
    "from modules.data_loader import load_data"
   ]
  },
  {
   "cell_type": "code",
   "execution_count": 6,
   "metadata": {},
   "outputs": [
    {
     "name": "stdout",
     "output_type": "stream",
     "text": [
      "Data was already pickeled!\n"
     ]
    }
   ],
   "source": [
    "df_train, df_test, df_articles = load_data()"
   ]
  },
  {
   "cell_type": "code",
   "execution_count": 9,
   "metadata": {},
   "outputs": [
    {
     "data": {
      "text/html": [
       "<div>\n",
       "<style scoped>\n",
       "    .dataframe tbody tr th:only-of-type {\n",
       "        vertical-align: middle;\n",
       "    }\n",
       "\n",
       "    .dataframe tbody tr th {\n",
       "        vertical-align: top;\n",
       "    }\n",
       "\n",
       "    .dataframe thead th {\n",
       "        text-align: right;\n",
       "    }\n",
       "</style>\n",
       "<table border=\"1\" class=\"dataframe\">\n",
       "  <thead>\n",
       "    <tr style=\"text-align: right;\">\n",
       "      <th></th>\n",
       "      <th>article_id</th>\n",
       "      <th>customer_id</th>\n",
       "    </tr>\n",
       "  </thead>\n",
       "  <tbody>\n",
       "    <tr>\n",
       "      <th>27607275</th>\n",
       "      <td>305931001</td>\n",
       "      <td>000114c6996ef5703a8d455faf2103f8488d3928348e07...</td>\n",
       "    </tr>\n",
       "    <tr>\n",
       "      <th>27607276</th>\n",
       "      <td>690449013</td>\n",
       "      <td>000114c6996ef5703a8d455faf2103f8488d3928348e07...</td>\n",
       "    </tr>\n",
       "    <tr>\n",
       "      <th>27607277</th>\n",
       "      <td>783346021</td>\n",
       "      <td>000114c6996ef5703a8d455faf2103f8488d3928348e07...</td>\n",
       "    </tr>\n",
       "    <tr>\n",
       "      <th>27607278</th>\n",
       "      <td>573716050</td>\n",
       "      <td>000114c6996ef5703a8d455faf2103f8488d3928348e07...</td>\n",
       "    </tr>\n",
       "    <tr>\n",
       "      <th>27607279</th>\n",
       "      <td>817150005</td>\n",
       "      <td>000114c6996ef5703a8d455faf2103f8488d3928348e07...</td>\n",
       "    </tr>\n",
       "    <tr>\n",
       "      <th>...</th>\n",
       "      <td>...</td>\n",
       "      <td>...</td>\n",
       "    </tr>\n",
       "    <tr>\n",
       "      <th>31788319</th>\n",
       "      <td>929511001</td>\n",
       "      <td>fff2282977442e327b45d8c89afde25617d00124d0f999...</td>\n",
       "    </tr>\n",
       "    <tr>\n",
       "      <th>31788320</th>\n",
       "      <td>891322004</td>\n",
       "      <td>fff2282977442e327b45d8c89afde25617d00124d0f999...</td>\n",
       "    </tr>\n",
       "    <tr>\n",
       "      <th>31788321</th>\n",
       "      <td>918325001</td>\n",
       "      <td>fff380805474b287b05cb2a7507b9a013482f7dd0bce0e...</td>\n",
       "    </tr>\n",
       "    <tr>\n",
       "      <th>31788322</th>\n",
       "      <td>833459002</td>\n",
       "      <td>fff4d3a8b1f3b60af93e78c30a7cb4cf75edaf2590d3e5...</td>\n",
       "    </tr>\n",
       "    <tr>\n",
       "      <th>31788323</th>\n",
       "      <td>898573003</td>\n",
       "      <td>fffef3b6b73545df065b521e19f64bf6fe93bfd450ab20...</td>\n",
       "    </tr>\n",
       "  </tbody>\n",
       "</table>\n",
       "<p>4181049 rows × 2 columns</p>\n",
       "</div>"
      ],
      "text/plain": [
       "         article_id                                        customer_id\n",
       "27607275  305931001  000114c6996ef5703a8d455faf2103f8488d3928348e07...\n",
       "27607276  690449013  000114c6996ef5703a8d455faf2103f8488d3928348e07...\n",
       "27607277  783346021  000114c6996ef5703a8d455faf2103f8488d3928348e07...\n",
       "27607278  573716050  000114c6996ef5703a8d455faf2103f8488d3928348e07...\n",
       "27607279  817150005  000114c6996ef5703a8d455faf2103f8488d3928348e07...\n",
       "...             ...                                                ...\n",
       "31788319  929511001  fff2282977442e327b45d8c89afde25617d00124d0f999...\n",
       "31788320  891322004  fff2282977442e327b45d8c89afde25617d00124d0f999...\n",
       "31788321  918325001  fff380805474b287b05cb2a7507b9a013482f7dd0bce0e...\n",
       "31788322  833459002  fff4d3a8b1f3b60af93e78c30a7cb4cf75edaf2590d3e5...\n",
       "31788323  898573003  fffef3b6b73545df065b521e19f64bf6fe93bfd450ab20...\n",
       "\n",
       "[4181049 rows x 2 columns]"
      ]
     },
     "execution_count": 9,
     "metadata": {},
     "output_type": "execute_result"
    }
   ],
   "source": [
    "df_train[Variables.ALL_VARIABLES]"
   ]
  },
  {
   "cell_type": "code",
   "execution_count": 8,
   "metadata": {},
   "outputs": [
    {
     "data": {
      "text/html": [
       "<div>\n",
       "<style scoped>\n",
       "    .dataframe tbody tr th:only-of-type {\n",
       "        vertical-align: middle;\n",
       "    }\n",
       "\n",
       "    .dataframe tbody tr th {\n",
       "        vertical-align: top;\n",
       "    }\n",
       "\n",
       "    .dataframe thead th {\n",
       "        text-align: right;\n",
       "    }\n",
       "</style>\n",
       "<table border=\"1\" class=\"dataframe\">\n",
       "  <thead>\n",
       "    <tr style=\"text-align: right;\">\n",
       "      <th></th>\n",
       "      <th>t_dat</th>\n",
       "      <th>customer_id</th>\n",
       "      <th>article_id</th>\n",
       "      <th>price</th>\n",
       "      <th>sales_channel_id</th>\n",
       "    </tr>\n",
       "  </thead>\n",
       "  <tbody>\n",
       "    <tr>\n",
       "      <th>27607275</th>\n",
       "      <td>2020-06-20</td>\n",
       "      <td>000114c6996ef5703a8d455faf2103f8488d3928348e07...</td>\n",
       "      <td>305931001</td>\n",
       "      <td>0.022017</td>\n",
       "      <td>2</td>\n",
       "    </tr>\n",
       "    <tr>\n",
       "      <th>27607276</th>\n",
       "      <td>2020-06-20</td>\n",
       "      <td>000114c6996ef5703a8d455faf2103f8488d3928348e07...</td>\n",
       "      <td>690449013</td>\n",
       "      <td>0.030492</td>\n",
       "      <td>2</td>\n",
       "    </tr>\n",
       "    <tr>\n",
       "      <th>27607277</th>\n",
       "      <td>2020-06-20</td>\n",
       "      <td>000114c6996ef5703a8d455faf2103f8488d3928348e07...</td>\n",
       "      <td>783346021</td>\n",
       "      <td>0.013542</td>\n",
       "      <td>2</td>\n",
       "    </tr>\n",
       "    <tr>\n",
       "      <th>27607278</th>\n",
       "      <td>2020-06-20</td>\n",
       "      <td>000114c6996ef5703a8d455faf2103f8488d3928348e07...</td>\n",
       "      <td>573716050</td>\n",
       "      <td>0.016932</td>\n",
       "      <td>2</td>\n",
       "    </tr>\n",
       "    <tr>\n",
       "      <th>27607279</th>\n",
       "      <td>2020-06-20</td>\n",
       "      <td>000114c6996ef5703a8d455faf2103f8488d3928348e07...</td>\n",
       "      <td>817150005</td>\n",
       "      <td>0.013542</td>\n",
       "      <td>2</td>\n",
       "    </tr>\n",
       "  </tbody>\n",
       "</table>\n",
       "</div>"
      ],
      "text/plain": [
       "               t_dat                                        customer_id  \\\n",
       "27607275  2020-06-20  000114c6996ef5703a8d455faf2103f8488d3928348e07...   \n",
       "27607276  2020-06-20  000114c6996ef5703a8d455faf2103f8488d3928348e07...   \n",
       "27607277  2020-06-20  000114c6996ef5703a8d455faf2103f8488d3928348e07...   \n",
       "27607278  2020-06-20  000114c6996ef5703a8d455faf2103f8488d3928348e07...   \n",
       "27607279  2020-06-20  000114c6996ef5703a8d455faf2103f8488d3928348e07...   \n",
       "\n",
       "         article_id     price  sales_channel_id  \n",
       "27607275  305931001  0.022017                 2  \n",
       "27607276  690449013  0.030492                 2  \n",
       "27607277  783346021  0.013542                 2  \n",
       "27607278  573716050  0.016932                 2  \n",
       "27607279  817150005  0.013542                 2  "
      ]
     },
     "execution_count": 8,
     "metadata": {},
     "output_type": "execute_result"
    }
   ],
   "source": [
    "df_train.head()"
   ]
  },
  {
   "cell_type": "code",
   "execution_count": 3,
   "metadata": {},
   "outputs": [
    {
     "data": {
      "text/plain": [
       "t_dat                      object\n",
       "customer_id                object\n",
       "article_id                  int64\n",
       "price                     float64\n",
       "sales_channel_id            int64\n",
       "FN                        float64\n",
       "Active                    float64\n",
       "club_member_status         object\n",
       "fashion_news_frequency     object\n",
       "age                       float64\n",
       "postal_code                object\n",
       "product_type_name          object\n",
       "product_group_name         object\n",
       "colour_group_name          object\n",
       "department_name            object\n",
       "index_name                 object\n",
       "section_name               object\n",
       "garment_group_name         object\n",
       "dtype: object"
      ]
     },
     "execution_count": 3,
     "metadata": {},
     "output_type": "execute_result"
    }
   ],
   "source": [
    "df_train.dtypes"
   ]
  },
  {
   "cell_type": "code",
   "execution_count": 6,
   "metadata": {},
   "outputs": [],
   "source": [
    "import numpy as np\n",
    "df_train['article_id'] = np.asarray(df_train['article_id']).astype(np.float32)"
   ]
  },
  {
   "cell_type": "code",
   "execution_count": 3,
   "metadata": {},
   "outputs": [
    {
     "data": {
      "text/plain": [
       "t_dat                     0\n",
       "customer_id               0\n",
       "article_id                0\n",
       "price                     0\n",
       "sales_channel_id          0\n",
       "FN                        0\n",
       "Active                    0\n",
       "club_member_status        0\n",
       "fashion_news_frequency    0\n",
       "age                       0\n",
       "postal_code               0\n",
       "product_type_name         0\n",
       "product_group_name        0\n",
       "colour_group_name         0\n",
       "department_name           0\n",
       "index_name                0\n",
       "section_name              0\n",
       "garment_group_name        0\n",
       "dtype: int64"
      ]
     },
     "execution_count": 3,
     "metadata": {},
     "output_type": "execute_result"
    }
   ],
   "source": [
    "df_train.isna().sum()"
   ]
  },
  {
   "cell_type": "code",
   "execution_count": 5,
   "metadata": {},
   "outputs": [
    {
     "name": "stderr",
     "output_type": "stream",
     "text": [
      "2024-10-25 21:23:53.758865: I tensorflow/core/util/port.cc:153] oneDNN custom operations are on. You may see slightly different numerical results due to floating-point round-off errors from different computation orders. To turn them off, set the environment variable `TF_ENABLE_ONEDNN_OPTS=0`.\n",
      "2024-10-25 21:23:53.946174: E external/local_xla/xla/stream_executor/cuda/cuda_fft.cc:477] Unable to register cuFFT factory: Attempting to register factory for plugin cuFFT when one has already been registered\n",
      "WARNING: All log messages before absl::InitializeLog() is called are written to STDERR\n",
      "E0000 00:00:1729884234.008233    5534 cuda_dnn.cc:8310] Unable to register cuDNN factory: Attempting to register factory for plugin cuDNN when one has already been registered\n",
      "E0000 00:00:1729884234.026790    5534 cuda_blas.cc:1418] Unable to register cuBLAS factory: Attempting to register factory for plugin cuBLAS when one has already been registered\n",
      "2024-10-25 21:23:54.195285: I tensorflow/core/platform/cpu_feature_guard.cc:210] This TensorFlow binary is optimized to use available CPU instructions in performance-critical operations.\n",
      "To enable the following instructions: AVX2 AVX_VNNI FMA, in other operations, rebuild TensorFlow with the appropriate compiler flags.\n"
     ]
    },
    {
     "data": {
      "text/plain": [
       "[PhysicalDevice(name='/physical_device:GPU:0', device_type='GPU')]"
      ]
     },
     "execution_count": 5,
     "metadata": {},
     "output_type": "execute_result"
    }
   ],
   "source": [
    "import tensorflow as tf\n",
    "import tensorflow_recommenders as tfrs\n",
    "\n",
    "tf.config.list_physical_devices('GPU')"
   ]
  },
  {
   "cell_type": "code",
   "execution_count": 6,
   "metadata": {},
   "outputs": [
    {
     "data": {
      "text/plain": [
       "t_dat                     0\n",
       "customer_id               0\n",
       "article_id                0\n",
       "price                     0\n",
       "sales_channel_id          0\n",
       "FN                        0\n",
       "Active                    0\n",
       "club_member_status        0\n",
       "fashion_news_frequency    0\n",
       "age                       0\n",
       "postal_code               0\n",
       "product_type_name         0\n",
       "product_group_name        0\n",
       "colour_group_name         0\n",
       "department_name           0\n",
       "index_name                0\n",
       "section_name              0\n",
       "garment_group_name        0\n",
       "dtype: int64"
      ]
     },
     "execution_count": 6,
     "metadata": {},
     "output_type": "execute_result"
    }
   ],
   "source": [
    "df_train.isna().sum()"
   ]
  },
  {
   "cell_type": "code",
   "execution_count": 7,
   "metadata": {},
   "outputs": [
    {
     "data": {
      "text/plain": [
       "t_dat                     0\n",
       "customer_id               0\n",
       "article_id                0\n",
       "price                     0\n",
       "sales_channel_id          0\n",
       "FN                        0\n",
       "Active                    0\n",
       "club_member_status        0\n",
       "fashion_news_frequency    0\n",
       "age                       0\n",
       "postal_code               0\n",
       "product_type_name         0\n",
       "product_group_name        0\n",
       "colour_group_name         0\n",
       "department_name           0\n",
       "index_name                0\n",
       "section_name              0\n",
       "garment_group_name        0\n",
       "dtype: int64"
      ]
     },
     "execution_count": 7,
     "metadata": {},
     "output_type": "execute_result"
    },
    {
     "ename": "",
     "evalue": "",
     "output_type": "error",
     "traceback": [
      "\u001b[1;31mThe Kernel crashed while executing code in the current cell or a previous cell. \n",
      "\u001b[1;31mPlease review the code in the cell(s) to identify a possible cause of the failure. \n",
      "\u001b[1;31mClick <a href='https://aka.ms/vscodeJupyterKernelCrash'>here</a> for more info. \n",
      "\u001b[1;31mView Jupyter <a href='command:jupyter.viewOutput'>log</a> for further details."
     ]
    }
   ],
   "source": [
    "df_test.isna().sum()"
   ]
  },
  {
   "cell_type": "code",
   "execution_count": 1,
   "metadata": {},
   "outputs": [
    {
     "name": "stderr",
     "output_type": "stream",
     "text": [
      "2024-11-05 20:02:17.315990: I tensorflow/core/util/port.cc:153] oneDNN custom operations are on. You may see slightly different numerical results due to floating-point round-off errors from different computation orders. To turn them off, set the environment variable `TF_ENABLE_ONEDNN_OPTS=0`.\n",
      "2024-11-05 20:02:17.324386: E external/local_xla/xla/stream_executor/cuda/cuda_fft.cc:477] Unable to register cuFFT factory: Attempting to register factory for plugin cuFFT when one has already been registered\n",
      "WARNING: All log messages before absl::InitializeLog() is called are written to STDERR\n",
      "E0000 00:00:1730833337.333788   75869 cuda_dnn.cc:8310] Unable to register cuDNN factory: Attempting to register factory for plugin cuDNN when one has already been registered\n",
      "E0000 00:00:1730833337.336775   75869 cuda_blas.cc:1418] Unable to register cuBLAS factory: Attempting to register factory for plugin cuBLAS when one has already been registered\n",
      "2024-11-05 20:02:17.346744: I tensorflow/core/platform/cpu_feature_guard.cc:210] This TensorFlow binary is optimized to use available CPU instructions in performance-critical operations.\n",
      "To enable the following instructions: AVX2 AVX_VNNI FMA, in other operations, rebuild TensorFlow with the appropriate compiler flags.\n"
     ]
    }
   ],
   "source": [
    "from modules.data_loader import load_data\n",
    "import time\n",
    "from modules.preprocess_data import preprocess\n",
    "from modules.train import run_training\n",
    "from config.config import Config\n",
    "import pickle\n",
    "import tensorflow as tf"
   ]
  },
  {
   "cell_type": "code",
   "execution_count": 2,
   "metadata": {},
   "outputs": [
    {
     "name": "stdout",
     "output_type": "stream",
     "text": [
      "Loading the data...\n",
      "Data was already pickeled!\n",
      "Preprocessing the data...\n",
      "String: article_id\n"
     ]
    },
    {
     "name": "stderr",
     "output_type": "stream",
     "text": [
      "I0000 00:00:1730833341.309426   75869 gpu_device.cc:2022] Created device /job:localhost/replica:0/task:0/device:GPU:0 with 5564 MB memory:  -> device: 0, name: NVIDIA GeForce RTX 3070, pci bus id: 0000:01:00.0, compute capability: 8.6\n"
     ]
    },
    {
     "name": "stdout",
     "output_type": "stream",
     "text": [
      "String: customer_id\n",
      "Done preparing the lookups...\n",
      "Performing lookup on key: article_id\n",
      "Input value: Tensor(\"args_0:0\", shape=(None,), dtype=string)\n",
      "Done generating the training set...\n",
      "Performing lookup on key: article_id\n",
      "Input value: Tensor(\"args_0:0\", shape=(None,), dtype=string)\n",
      "Done generating the test set...\n",
      "Performing lookup on key: article_id\n",
      "Input value: Tensor(\"args_0:0\", shape=(None,), dtype=string)\n",
      "Done generating the article data...\n"
     ]
    }
   ],
   "source": [
    "# Load/Extract the data\n",
    "print('Loading the data...')\n",
    "train_df, test_df, article_df = load_data()\n",
    "\n",
    "# Preprocess the data to a TF Dataset\n",
    "print('Preprocessing the data...')\n",
    "preprocessed_hm_data = preprocess(train_df, test_df, article_df, batch_size=Config.batch_size)"
   ]
  },
  {
   "cell_type": "code",
   "execution_count": 3,
   "metadata": {},
   "outputs": [
    {
     "data": {
      "text/plain": [
       "<_PrefetchDataset element_spec={'article_id': TensorSpec(shape=(None,), dtype=tf.int64, name=None)}>"
      ]
     },
     "execution_count": 3,
     "metadata": {},
     "output_type": "execute_result"
    }
   ],
   "source": [
    "preprocessed_hm_data.train_ds"
   ]
  },
  {
   "cell_type": "code",
   "execution_count": 4,
   "metadata": {},
   "outputs": [
    {
     "data": {
      "text/plain": [
       "['article_id', 'customer_id']"
      ]
     },
     "execution_count": 4,
     "metadata": {},
     "output_type": "execute_result"
    }
   ],
   "source": [
    "from config.config import Variables\n",
    "Variables.ALL_VARIABLES"
   ]
  },
  {
   "cell_type": "code",
   "execution_count": null,
   "metadata": {},
   "outputs": [],
   "source": []
  }
 ],
 "metadata": {
  "kernelspec": {
   "display_name": "recommendation_sys",
   "language": "python",
   "name": "python3"
  },
  "language_info": {
   "codemirror_mode": {
    "name": "ipython",
    "version": 3
   },
   "file_extension": ".py",
   "mimetype": "text/x-python",
   "name": "python",
   "nbconvert_exporter": "python",
   "pygments_lexer": "ipython3",
   "version": "3.12.7"
  }
 },
 "nbformat": 4,
 "nbformat_minor": 2
}
