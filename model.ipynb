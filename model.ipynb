{
 "cells": [
  {
   "cell_type": "markdown",
   "metadata": {},
   "source": [
    "# Tensorflow Recommendation System"
   ]
  },
  {
   "cell_type": "code",
   "execution_count": 1,
   "metadata": {},
   "outputs": [],
   "source": [
    "from data_loader import load_data"
   ]
  },
  {
   "cell_type": "code",
   "execution_count": 2,
   "metadata": {},
   "outputs": [
    {
     "name": "stdout",
     "output_type": "stream",
     "text": [
      "Importing the data from parquet files\n",
      "Preparing customer df\n",
      "Merging the data\n",
      "Splitting the data\n",
      "Pickel the data\n"
     ]
    }
   ],
   "source": [
    "df_train, df_test, df_articles = load_data()"
   ]
  },
  {
   "cell_type": "code",
   "execution_count": 3,
   "metadata": {},
   "outputs": [
    {
     "data": {
      "text/plain": [
       "t_dat                      object\n",
       "customer_id                object\n",
       "article_id                  int64\n",
       "price                     float64\n",
       "sales_channel_id            int64\n",
       "FN                        float64\n",
       "Active                    float64\n",
       "club_member_status         object\n",
       "fashion_news_frequency     object\n",
       "age                       float64\n",
       "postal_code                object\n",
       "product_type_name          object\n",
       "product_group_name         object\n",
       "colour_group_name          object\n",
       "department_name            object\n",
       "index_name                 object\n",
       "section_name               object\n",
       "garment_group_name         object\n",
       "dtype: object"
      ]
     },
     "execution_count": 3,
     "metadata": {},
     "output_type": "execute_result"
    }
   ],
   "source": [
    "df_train.dtypes"
   ]
  },
  {
   "cell_type": "code",
   "execution_count": 4,
   "metadata": {},
   "outputs": [
    {
     "data": {
      "text/plain": [
       "t_dat                     0\n",
       "customer_id               0\n",
       "article_id                0\n",
       "price                     0\n",
       "sales_channel_id          0\n",
       "FN                        0\n",
       "Active                    0\n",
       "club_member_status        0\n",
       "fashion_news_frequency    0\n",
       "age                       0\n",
       "postal_code               0\n",
       "product_type_name         0\n",
       "product_group_name        0\n",
       "colour_group_name         0\n",
       "department_name           0\n",
       "index_name                0\n",
       "section_name              0\n",
       "garment_group_name        0\n",
       "dtype: int64"
      ]
     },
     "execution_count": 4,
     "metadata": {},
     "output_type": "execute_result"
    }
   ],
   "source": [
    "df_train.isna().sum()"
   ]
  },
  {
   "cell_type": "code",
   "execution_count": 5,
   "metadata": {},
   "outputs": [
    {
     "name": "stderr",
     "output_type": "stream",
     "text": [
      "2024-10-25 21:23:53.758865: I tensorflow/core/util/port.cc:153] oneDNN custom operations are on. You may see slightly different numerical results due to floating-point round-off errors from different computation orders. To turn them off, set the environment variable `TF_ENABLE_ONEDNN_OPTS=0`.\n",
      "2024-10-25 21:23:53.946174: E external/local_xla/xla/stream_executor/cuda/cuda_fft.cc:477] Unable to register cuFFT factory: Attempting to register factory for plugin cuFFT when one has already been registered\n",
      "WARNING: All log messages before absl::InitializeLog() is called are written to STDERR\n",
      "E0000 00:00:1729884234.008233    5534 cuda_dnn.cc:8310] Unable to register cuDNN factory: Attempting to register factory for plugin cuDNN when one has already been registered\n",
      "E0000 00:00:1729884234.026790    5534 cuda_blas.cc:1418] Unable to register cuBLAS factory: Attempting to register factory for plugin cuBLAS when one has already been registered\n",
      "2024-10-25 21:23:54.195285: I tensorflow/core/platform/cpu_feature_guard.cc:210] This TensorFlow binary is optimized to use available CPU instructions in performance-critical operations.\n",
      "To enable the following instructions: AVX2 AVX_VNNI FMA, in other operations, rebuild TensorFlow with the appropriate compiler flags.\n"
     ]
    },
    {
     "data": {
      "text/plain": [
       "[PhysicalDevice(name='/physical_device:GPU:0', device_type='GPU')]"
      ]
     },
     "execution_count": 5,
     "metadata": {},
     "output_type": "execute_result"
    }
   ],
   "source": [
    "import tensorflow as tf\n",
    "import tensorflow_recommenders as tfrs\n",
    "\n",
    "tf.config.list_physical_devices('GPU')"
   ]
  },
  {
   "cell_type": "code",
   "execution_count": 6,
   "metadata": {},
   "outputs": [
    {
     "data": {
      "text/plain": [
       "t_dat                     0\n",
       "customer_id               0\n",
       "article_id                0\n",
       "price                     0\n",
       "sales_channel_id          0\n",
       "FN                        0\n",
       "Active                    0\n",
       "club_member_status        0\n",
       "fashion_news_frequency    0\n",
       "age                       0\n",
       "postal_code               0\n",
       "product_type_name         0\n",
       "product_group_name        0\n",
       "colour_group_name         0\n",
       "department_name           0\n",
       "index_name                0\n",
       "section_name              0\n",
       "garment_group_name        0\n",
       "dtype: int64"
      ]
     },
     "execution_count": 6,
     "metadata": {},
     "output_type": "execute_result"
    }
   ],
   "source": [
    "df_train.isna().sum()"
   ]
  },
  {
   "cell_type": "code",
   "execution_count": 7,
   "metadata": {},
   "outputs": [
    {
     "data": {
      "text/plain": [
       "t_dat                     0\n",
       "customer_id               0\n",
       "article_id                0\n",
       "price                     0\n",
       "sales_channel_id          0\n",
       "FN                        0\n",
       "Active                    0\n",
       "club_member_status        0\n",
       "fashion_news_frequency    0\n",
       "age                       0\n",
       "postal_code               0\n",
       "product_type_name         0\n",
       "product_group_name        0\n",
       "colour_group_name         0\n",
       "department_name           0\n",
       "index_name                0\n",
       "section_name              0\n",
       "garment_group_name        0\n",
       "dtype: int64"
      ]
     },
     "execution_count": 7,
     "metadata": {},
     "output_type": "execute_result"
    },
    {
     "ename": "",
     "evalue": "",
     "output_type": "error",
     "traceback": [
      "\u001b[1;31mThe Kernel crashed while executing code in the current cell or a previous cell. \n",
      "\u001b[1;31mPlease review the code in the cell(s) to identify a possible cause of the failure. \n",
      "\u001b[1;31mClick <a href='https://aka.ms/vscodeJupyterKernelCrash'>here</a> for more info. \n",
      "\u001b[1;31mView Jupyter <a href='command:jupyter.viewOutput'>log</a> for further details."
     ]
    }
   ],
   "source": [
    "df_test.isna().sum()"
   ]
  },
  {
   "cell_type": "code",
   "execution_count": null,
   "metadata": {},
   "outputs": [
    {
     "name": "stderr",
     "output_type": "stream",
     "text": [
      "I0000 00:00:1729884303.854434    5534 gpu_device.cc:2022] Created device /job:localhost/replica:0/task:0/device:GPU:0 with 5564 MB memory:  -> device: 0, name: NVIDIA GeForce RTX 3070, pci bus id: 0000:01:00.0, compute capability: 8.6\n"
     ]
    }
   ],
   "source": [
    "train_tf = tf.data.Dataset.from_tensor_slices(df_train.to_dict('list'))\n",
    "test_tf = tf.data.Dataset.from_tensor_slices(df_test.to_dict('list'))\n",
    "articles_tf = tf.data.Dataset.from_tensor_slices(df_articles.to_dict('list'))"
   ]
  }
 ],
 "metadata": {
  "kernelspec": {
   "display_name": "recommendation_sys",
   "language": "python",
   "name": "python3"
  },
  "language_info": {
   "codemirror_mode": {
    "name": "ipython",
    "version": 3
   },
   "file_extension": ".py",
   "mimetype": "text/x-python",
   "name": "python",
   "nbconvert_exporter": "python",
   "pygments_lexer": "ipython3",
   "version": "3.12.7"
  }
 },
 "nbformat": 4,
 "nbformat_minor": 2
}
