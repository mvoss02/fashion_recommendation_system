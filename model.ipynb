{
 "cells": [
  {
   "cell_type": "markdown",
   "metadata": {},
   "source": [
    "# Tensorflow Recommendation System"
   ]
  },
  {
   "cell_type": "code",
   "execution_count": 1,
   "metadata": {},
   "outputs": [
    {
     "name": "stderr",
     "output_type": "stream",
     "text": [
      "2024-11-07 09:33:55.287106: I tensorflow/core/util/port.cc:153] oneDNN custom operations are on. You may see slightly different numerical results due to floating-point round-off errors from different computation orders. To turn them off, set the environment variable `TF_ENABLE_ONEDNN_OPTS=0`.\n",
      "2024-11-07 09:33:55.359172: E external/local_xla/xla/stream_executor/cuda/cuda_fft.cc:477] Unable to register cuFFT factory: Attempting to register factory for plugin cuFFT when one has already been registered\n",
      "WARNING: All log messages before absl::InitializeLog() is called are written to STDERR\n",
      "E0000 00:00:1730968435.400287   25306 cuda_dnn.cc:8310] Unable to register cuDNN factory: Attempting to register factory for plugin cuDNN when one has already been registered\n",
      "E0000 00:00:1730968435.413850   25306 cuda_blas.cc:1418] Unable to register cuBLAS factory: Attempting to register factory for plugin cuBLAS when one has already been registered\n",
      "2024-11-07 09:33:55.482508: I tensorflow/core/platform/cpu_feature_guard.cc:210] This TensorFlow binary is optimized to use available CPU instructions in performance-critical operations.\n",
      "To enable the following instructions: AVX2 AVX_VNNI FMA, in other operations, rebuild TensorFlow with the appropriate compiler flags.\n"
     ]
    }
   ],
   "source": [
    "from modules.data_loader import load_data\n",
    "from modules.preprocess_data import preprocess\n",
    "from config.config import Config"
   ]
  },
  {
   "cell_type": "code",
   "execution_count": null,
   "metadata": {},
   "outputs": [
    {
     "name": "stdout",
     "output_type": "stream",
     "text": [
      "Data was already pickeled!\n"
     ]
    },
    {
     "name": "stderr",
     "output_type": "stream",
     "text": [
      "I0000 00:00:1730968441.729706   25306 gpu_device.cc:2022] Created device /job:localhost/replica:0/task:0/device:GPU:0 with 5564 MB memory:  -> device: 0, name: NVIDIA GeForce RTX 3070, pci bus id: 0000:01:00.0, compute capability: 8.6\n"
     ]
    }
   ],
   "source": [
    "train_df, test_df, article_df = load_data()\n",
    "preprocessed_hm_data = preprocess(train_df, test_df, article_df, batch_size=Config.batch_size)"
   ]
  },
  {
   "cell_type": "code",
   "execution_count": null,
   "metadata": {},
   "outputs": [
    {
     "data": {
      "text/plain": [
       "<_UnbatchDataset element_spec={'article_id': TensorSpec(shape=(), dtype=tf.int64, name=None), 'product_type_name': TensorSpec(shape=(), dtype=tf.int64, name=None), 'product_group_name': TensorSpec(shape=(), dtype=tf.int64, name=None), 'colour_group_name': TensorSpec(shape=(), dtype=tf.int64, name=None), 'department_name': TensorSpec(shape=(), dtype=tf.int64, name=None), 'index_name': TensorSpec(shape=(), dtype=tf.int64, name=None), 'section_name': TensorSpec(shape=(), dtype=tf.int64, name=None), 'garment_group_name': TensorSpec(shape=(), dtype=tf.int64, name=None)}>"
      ]
     },
     "execution_count": 3,
     "metadata": {},
     "output_type": "execute_result"
    }
   ],
   "source": [
    "preprocessed_hm_data.all_articles"
   ]
  },
  {
   "cell_type": "code",
   "execution_count": null,
   "metadata": {},
   "outputs": [
    {
     "name": "stdout",
     "output_type": "stream",
     "text": [
      "{'article_id': <tf.Tensor: shape=(), dtype=int64, numpy=1>, 'product_type_name': <tf.Tensor: shape=(), dtype=int64, numpy=1>, 'product_group_name': <tf.Tensor: shape=(), dtype=int64, numpy=1>, 'colour_group_name': <tf.Tensor: shape=(), dtype=int64, numpy=1>, 'department_name': <tf.Tensor: shape=(), dtype=int64, numpy=1>, 'index_name': <tf.Tensor: shape=(), dtype=int64, numpy=1>, 'section_name': <tf.Tensor: shape=(), dtype=int64, numpy=1>, 'garment_group_name': <tf.Tensor: shape=(), dtype=int64, numpy=1>}\n",
      "{'article_id': <tf.Tensor: shape=(), dtype=int64, numpy=2>, 'product_type_name': <tf.Tensor: shape=(), dtype=int64, numpy=2>, 'product_group_name': <tf.Tensor: shape=(), dtype=int64, numpy=1>, 'colour_group_name': <tf.Tensor: shape=(), dtype=int64, numpy=1>, 'department_name': <tf.Tensor: shape=(), dtype=int64, numpy=2>, 'index_name': <tf.Tensor: shape=(), dtype=int64, numpy=2>, 'section_name': <tf.Tensor: shape=(), dtype=int64, numpy=2>, 'garment_group_name': <tf.Tensor: shape=(), dtype=int64, numpy=2>}\n"
     ]
    },
    {
     "name": "stderr",
     "output_type": "stream",
     "text": [
      "2024-11-07 09:30:06.571750: I tensorflow/core/framework/local_rendezvous.cc:405] Local rendezvous is aborting with status: OUT_OF_RANGE: End of sequence\n"
     ]
    },
    {
     "ename": "",
     "evalue": "",
     "output_type": "error",
     "traceback": [
      "\u001b[1;31mThe Kernel crashed while executing code in the current cell or a previous cell. \n",
      "\u001b[1;31mPlease review the code in the cell(s) to identify a possible cause of the failure. \n",
      "\u001b[1;31mClick <a href='https://aka.ms/vscodeJupyterKernelCrash'>here</a> for more info. \n",
      "\u001b[1;31mView Jupyter <a href='command:jupyter.viewOutput'>log</a> for further details."
     ]
    }
   ],
   "source": [
    "candidate_data = preprocessed_hm_data.all_articles.batch(128)\n",
    "for example in candidate_data.take(1):\n",
    "    print(example)"
   ]
  },
  {
   "cell_type": "code",
   "execution_count": null,
   "metadata": {},
   "outputs": [],
   "source": []
  }
 ],
 "metadata": {
  "kernelspec": {
   "display_name": "recommendation_sys",
   "language": "python",
   "name": "python3"
  },
  "language_info": {
   "codemirror_mode": {
    "name": "ipython",
    "version": 3
   },
   "file_extension": ".py",
   "mimetype": "text/x-python",
   "name": "python",
   "nbconvert_exporter": "python",
   "pygments_lexer": "ipython3",
   "version": "3.12.7"
  }
 },
 "nbformat": 4,
 "nbformat_minor": 2
}
